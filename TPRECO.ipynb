{
 "cells": [
  {
   "cell_type": "markdown",
   "metadata": {},
   "source": [
    "# TP4\n"
   ]
  },
  {
   "cell_type": "code",
   "execution_count": 5,
   "metadata": {
    "collapsed": false
   },
   "outputs": [],
   "source": [
    "def loadMovieLens(path='data_movielens/ml-100k'):\n",
    "\n",
    "  # Get movie titles\n",
    "  movies={}\n",
    "  for line in open(path+'/u.item'):\n",
    "    (id,title)=line.split('|')[0:2]\n",
    "    movies[id]=title\n",
    "\n",
    "  # Load data\n",
    "  prefsUsersMovies,prefsMoviesUsers = {},{}\n",
    " \n",
    "  for line in open(path+'/u.data'):\n",
    "    (user,movieid,rating,ts)=line.split('\\t')\n",
    "    prefsUsersMovies.setdefault(user,{})\n",
    "    prefsMoviesUsers.setdefault(movies[movieid],{})\n",
    "    prefsUsersMovies[user][movies[movieid]]=float(rating)\n",
    "    prefsMoviesUsers[movies[movieid]][user]=float(rating)\n",
    "    \n",
    "  return prefsUsersMovies,prefsMoviesUsers"
   ]
  },
  {
   "cell_type": "code",
   "execution_count": 6,
   "metadata": {
    "collapsed": false
   },
   "outputs": [
    {
     "name": "stdout",
     "output_type": "stream",
     "text": [
      "[('181', 'Solo (1996)', 1.0), ('243', 'Chasing Amy (1997)', 4.0), ('588', 'Sleepless in Seattle (1993)', 5.0), ('13', 'Love and Death on Long Island (1997)', 1.0), ('790', 'Perez Family, The (1995)', 3.0), ('851', 'Trainspotting (1996)', 4.0), ('699', 'Akira (1988)', 3.0), ('334', 'Batman Returns (1992)', 2.0), ('389', 'Apartment, The (1960)', 5.0), ('894', 'Kicked in the Head (1997)', 3.0)]\n",
      "19939\n",
      "79754\n"
     ]
    }
   ],
   "source": [
    "import numpy as np\n",
    "import random\n",
    "prefsUsersMovies,prefsMoviesUsers = loadMovieLens()\n",
    "data = []\n",
    "for user,val in prefsUsersMovies.iteritems():\n",
    "        for movie,rate in val.iteritems():\n",
    "            data.append((user,movie,rate))\n",
    "random.shuffle(data)\n",
    "train = data[:int(len(data)*0.8)]\n",
    "test_before = data[int(len(data)*0.8):]\n",
    "print train[:10]\n",
    "print len(test_before)\n",
    "print len(train)"
   ]
  },
  {
   "cell_type": "code",
   "execution_count": 34,
   "metadata": {
    "collapsed": false
   },
   "outputs": [
    {
     "data": {
      "text/plain": [
       "[53, 156, 944]"
      ]
     },
     "execution_count": 34,
     "metadata": {},
     "output_type": "execute_result"
    }
   ],
   "source": [
    "random.sample(xrange(1000),3)"
   ]
  },
  {
   "cell_type": "code",
   "execution_count": 7,
   "metadata": {
    "collapsed": false
   },
   "outputs": [
    {
     "name": "stdout",
     "output_type": "stream",
     "text": [
      "Test : 19903\n",
      "Train : 79754\n",
      "Mean squared error : 1.08413479565\n",
      "1.08413479565 1.08413479565\n"
     ]
    }
   ],
   "source": [
    "from sklearn.metrics import mean_squared_error\n",
    "train.sort(key=lambda tup: (tup[0],tup[1]))\n",
    "test_before.sort(key= lambda tup: (tup[0],tup[1]))\n",
    "index_users = {}\n",
    "index_movies = {}\n",
    "train_dict = {}\n",
    "for t in train:\n",
    "    if t[0] in train_dict:\n",
    "        train_dict[t[0]][t[1]] = t[2]\n",
    "    else :\n",
    "        train_dict[t[0]] = {t[1]:t[2]}\n",
    "means_by_user = {}\n",
    "for t in train:\n",
    "    if not t[0] in index_users:\n",
    "        index_users[t[0]] = len (index_users.keys()) # on donne un ID à chaque user\n",
    "        means_by_user[t[0]] = np.mean(np.array(train_dict[t[0]].values()))\n",
    "    if not t[1] in index_movies:\n",
    "        index_movies [t[1]] = len (index_movies.keys()) # On donne un ID à chaque film\n",
    "        \n",
    "    \n",
    "test = []\n",
    "for d in test_before:\n",
    "    if (d[0] in index_users and d[1] in index_movies):\n",
    "        test.append(d)\n",
    "\n",
    "\n",
    "        \n",
    "test_predict_avg = {}\n",
    "y_train = np.array([d[2] for d in train])\n",
    "y_test = np.array([d[2] for d in test])\n",
    "y_avg_pred = np.array([means_by_user[d[0]] for d in test])\n",
    "\n",
    "print \"Test :\",len(test)\n",
    "print \"Train :\",len(train)\n",
    "print \"Mean squared error :\",mean_squared_error(y_test,y_avg_pred)\n",
    "a = sum((y_test - y_avg_pred)**2)/len(y_test)\n",
    "b = np.average((y_test - y_avg_pred)**2)\n",
    "print a,b"
   ]
  },
  {
   "cell_type": "code",
   "execution_count": 74,
   "metadata": {
    "collapsed": false
   },
   "outputs": [
    {
     "name": "stdout",
     "output_type": "stream",
     "text": [
      "\n"
     ]
    }
   ],
   "source": [
    "from numpy.linalg import norm\n",
    "\n",
    "\n",
    "def cost(index_users,index_movies,P,Q,XList,l):\n",
    "    pred = np.dot(P,np.transpose(Q))\n",
    "    cost = 0\n",
    "    for tup in XList:\n",
    "        i = index_users[tup[0]]\n",
    "        j = index_movies[tup[1]]\n",
    "        cost += (tup[2] - pred[i][j])**2 +l*(norm(P)**2 + norm(Q)**2)\n",
    "    return cost/len(XList)\n",
    "def simple_gradient_descent(index_users,index_movies,alpha,beta,nb_iter):\n",
    "    N = 100\n",
    "    U = len(index_users)\n",
    "    M = len(index_movies)\n",
    "    P = np.random.rand(U,N)\n",
    "    Q = np.random.rand(M,N)\n",
    "    for it in range(nb_iter):\n",
    "        d = np.random.randint(len(train))\n",
    "        tup = train[d]\n",
    "        i = index_users[tup[0]]\n",
    "        j = index_movies[tup[1]]\n",
    "        dotPQ = np.dot(P[i],Q[j])\n",
    "        Pprime_i = P[i] - alpha*(2*(dotPQ-tup[2])*Q[j]+2*beta*P[i])\n",
    "        Qprime_j = Q[j] - alpha*(2*(dotPQ-tup[2])*P[i]+2*beta*Q[j])\n",
    "        P[i] = Pprime_i\n",
    "        Q[j] = Qprime_j\n",
    "        if it % 50000 == 0:\n",
    "            print it,cost(index_users,index_movies,P,Q,train,beta)\n",
    "            print tup[2]\n",
    "            print dotPQ\n",
    "    return P,Q\n",
    "    "
   ]
  },
  {
   "cell_type": "code",
   "execution_count": 76,
   "metadata": {
    "collapsed": false
   },
   "outputs": [
    {
     "name": "stdout",
     "output_type": "stream",
     "text": [
      " 0 17633.7099531\n",
      "3.0\n",
      "25.0872931466\n",
      "50000 10801.2453499\n",
      "3.0\n",
      "3.08178282772\n",
      "100000"
     ]
    },
    {
     "ename": "KeyboardInterrupt",
     "evalue": "",
     "output_type": "error",
     "traceback": [
      "\u001b[1;31m---------------------------------------------------------------------------\u001b[0m",
      "\u001b[1;31mKeyboardInterrupt\u001b[0m                         Traceback (most recent call last)",
      "\u001b[1;32m<ipython-input-76-3d5d51bd95c2>\u001b[0m in \u001b[0;36m<module>\u001b[1;34m()\u001b[0m\n\u001b[0;32m      2\u001b[0m \u001b[0malpha\u001b[0m \u001b[1;33m=\u001b[0m \u001b[1;36m0.0017\u001b[0m\u001b[1;33m\u001b[0m\u001b[0m\n\u001b[0;32m      3\u001b[0m \u001b[0mbeta\u001b[0m \u001b[1;33m=\u001b[0m \u001b[1;36m0.2\u001b[0m\u001b[1;33m\u001b[0m\u001b[0m\n\u001b[1;32m----> 4\u001b[1;33m \u001b[0mP\u001b[0m\u001b[1;33m,\u001b[0m\u001b[0mQ\u001b[0m \u001b[1;33m=\u001b[0m \u001b[0msimple_gradient_descent\u001b[0m\u001b[1;33m(\u001b[0m\u001b[0mindex_users\u001b[0m\u001b[1;33m,\u001b[0m\u001b[0mindex_movies\u001b[0m\u001b[1;33m,\u001b[0m\u001b[0malpha\u001b[0m\u001b[1;33m,\u001b[0m\u001b[0mbeta\u001b[0m\u001b[1;33m,\u001b[0m\u001b[0mnb_iter\u001b[0m\u001b[1;33m)\u001b[0m\u001b[1;33m\u001b[0m\u001b[0m\n\u001b[0m",
      "\u001b[1;32m<ipython-input-74-b0d2e51bc7a3>\u001b[0m in \u001b[0;36msimple_gradient_descent\u001b[1;34m(index_users, index_movies, alpha, beta, nb_iter)\u001b[0m\n\u001b[0;32m     27\u001b[0m         \u001b[0mQ\u001b[0m\u001b[1;33m[\u001b[0m\u001b[0mj\u001b[0m\u001b[1;33m]\u001b[0m \u001b[1;33m=\u001b[0m \u001b[0mQprime_j\u001b[0m\u001b[1;33m\u001b[0m\u001b[0m\n\u001b[0;32m     28\u001b[0m         \u001b[1;32mif\u001b[0m \u001b[0mit\u001b[0m \u001b[1;33m%\u001b[0m \u001b[1;36m50000\u001b[0m \u001b[1;33m==\u001b[0m \u001b[1;36m0\u001b[0m\u001b[1;33m:\u001b[0m\u001b[1;33m\u001b[0m\u001b[0m\n\u001b[1;32m---> 29\u001b[1;33m             \u001b[1;32mprint\u001b[0m \u001b[0mit\u001b[0m\u001b[1;33m,\u001b[0m\u001b[0mcost\u001b[0m\u001b[1;33m(\u001b[0m\u001b[0mindex_users\u001b[0m\u001b[1;33m,\u001b[0m\u001b[0mindex_movies\u001b[0m\u001b[1;33m,\u001b[0m\u001b[0mP\u001b[0m\u001b[1;33m,\u001b[0m\u001b[0mQ\u001b[0m\u001b[1;33m,\u001b[0m\u001b[0mtrain\u001b[0m\u001b[1;33m,\u001b[0m\u001b[0mbeta\u001b[0m\u001b[1;33m)\u001b[0m\u001b[1;33m\u001b[0m\u001b[0m\n\u001b[0m\u001b[0;32m     30\u001b[0m             \u001b[1;32mprint\u001b[0m \u001b[0mtup\u001b[0m\u001b[1;33m[\u001b[0m\u001b[1;36m2\u001b[0m\u001b[1;33m]\u001b[0m\u001b[1;33m\u001b[0m\u001b[0m\n\u001b[0;32m     31\u001b[0m             \u001b[1;32mprint\u001b[0m \u001b[0mdotPQ\u001b[0m\u001b[1;33m\u001b[0m\u001b[0m\n",
      "\u001b[1;32m<ipython-input-74-b0d2e51bc7a3>\u001b[0m in \u001b[0;36mcost\u001b[1;34m(index_users, index_movies, P, Q, XList, l)\u001b[0m\n\u001b[0;32m      8\u001b[0m         \u001b[0mi\u001b[0m \u001b[1;33m=\u001b[0m \u001b[0mindex_users\u001b[0m\u001b[1;33m[\u001b[0m\u001b[0mtup\u001b[0m\u001b[1;33m[\u001b[0m\u001b[1;36m0\u001b[0m\u001b[1;33m]\u001b[0m\u001b[1;33m]\u001b[0m\u001b[1;33m\u001b[0m\u001b[0m\n\u001b[0;32m      9\u001b[0m         \u001b[0mj\u001b[0m \u001b[1;33m=\u001b[0m \u001b[0mindex_movies\u001b[0m\u001b[1;33m[\u001b[0m\u001b[0mtup\u001b[0m\u001b[1;33m[\u001b[0m\u001b[1;36m1\u001b[0m\u001b[1;33m]\u001b[0m\u001b[1;33m]\u001b[0m\u001b[1;33m\u001b[0m\u001b[0m\n\u001b[1;32m---> 10\u001b[1;33m         \u001b[0mcost\u001b[0m \u001b[1;33m+=\u001b[0m \u001b[1;33m(\u001b[0m\u001b[0mtup\u001b[0m\u001b[1;33m[\u001b[0m\u001b[1;36m2\u001b[0m\u001b[1;33m]\u001b[0m \u001b[1;33m-\u001b[0m \u001b[0mpred\u001b[0m\u001b[1;33m[\u001b[0m\u001b[0mi\u001b[0m\u001b[1;33m]\u001b[0m\u001b[1;33m[\u001b[0m\u001b[0mj\u001b[0m\u001b[1;33m]\u001b[0m\u001b[1;33m)\u001b[0m\u001b[1;33m**\u001b[0m\u001b[1;36m2\u001b[0m \u001b[1;33m+\u001b[0m\u001b[0ml\u001b[0m\u001b[1;33m*\u001b[0m\u001b[1;33m(\u001b[0m\u001b[0mnorm\u001b[0m\u001b[1;33m(\u001b[0m\u001b[0mP\u001b[0m\u001b[1;33m)\u001b[0m\u001b[1;33m**\u001b[0m\u001b[1;36m2\u001b[0m \u001b[1;33m+\u001b[0m \u001b[0mnorm\u001b[0m\u001b[1;33m(\u001b[0m\u001b[0mQ\u001b[0m\u001b[1;33m)\u001b[0m\u001b[1;33m**\u001b[0m\u001b[1;36m2\u001b[0m\u001b[1;33m)\u001b[0m\u001b[1;33m\u001b[0m\u001b[0m\n\u001b[0m\u001b[0;32m     11\u001b[0m     \u001b[1;32mreturn\u001b[0m \u001b[0mcost\u001b[0m\u001b[1;33m/\u001b[0m\u001b[0mlen\u001b[0m\u001b[1;33m(\u001b[0m\u001b[0mXList\u001b[0m\u001b[1;33m)\u001b[0m\u001b[1;33m\u001b[0m\u001b[0m\n\u001b[0;32m     12\u001b[0m \u001b[1;32mdef\u001b[0m \u001b[0msimple_gradient_descent\u001b[0m\u001b[1;33m(\u001b[0m\u001b[0mindex_users\u001b[0m\u001b[1;33m,\u001b[0m\u001b[0mindex_movies\u001b[0m\u001b[1;33m,\u001b[0m\u001b[0malpha\u001b[0m\u001b[1;33m,\u001b[0m\u001b[0mbeta\u001b[0m\u001b[1;33m,\u001b[0m\u001b[0mnb_iter\u001b[0m\u001b[1;33m)\u001b[0m\u001b[1;33m:\u001b[0m\u001b[1;33m\u001b[0m\u001b[0m\n",
      "\u001b[1;32mC:\\Users\\Walid\\Anaconda\\lib\\site-packages\\numpy\\linalg\\linalg.pyc\u001b[0m in \u001b[0;36mnorm\u001b[1;34m(x, ord, axis)\u001b[0m\n\u001b[0;32m   2058\u001b[0m             \u001b[0msqnorm\u001b[0m \u001b[1;33m=\u001b[0m \u001b[0mdot\u001b[0m\u001b[1;33m(\u001b[0m\u001b[0mx\u001b[0m\u001b[1;33m.\u001b[0m\u001b[0mreal\u001b[0m\u001b[1;33m,\u001b[0m \u001b[0mx\u001b[0m\u001b[1;33m.\u001b[0m\u001b[0mreal\u001b[0m\u001b[1;33m)\u001b[0m \u001b[1;33m+\u001b[0m \u001b[0mdot\u001b[0m\u001b[1;33m(\u001b[0m\u001b[0mx\u001b[0m\u001b[1;33m.\u001b[0m\u001b[0mimag\u001b[0m\u001b[1;33m,\u001b[0m \u001b[0mx\u001b[0m\u001b[1;33m.\u001b[0m\u001b[0mimag\u001b[0m\u001b[1;33m)\u001b[0m\u001b[1;33m\u001b[0m\u001b[0m\n\u001b[0;32m   2059\u001b[0m         \u001b[1;32melse\u001b[0m\u001b[1;33m:\u001b[0m\u001b[1;33m\u001b[0m\u001b[0m\n\u001b[1;32m-> 2060\u001b[1;33m             \u001b[0msqnorm\u001b[0m \u001b[1;33m=\u001b[0m \u001b[0mdot\u001b[0m\u001b[1;33m(\u001b[0m\u001b[0mx\u001b[0m\u001b[1;33m,\u001b[0m \u001b[0mx\u001b[0m\u001b[1;33m)\u001b[0m\u001b[1;33m\u001b[0m\u001b[0m\n\u001b[0m\u001b[0;32m   2061\u001b[0m         \u001b[1;32mreturn\u001b[0m \u001b[0msqrt\u001b[0m\u001b[1;33m(\u001b[0m\u001b[0msqnorm\u001b[0m\u001b[1;33m)\u001b[0m\u001b[1;33m\u001b[0m\u001b[0m\n\u001b[0;32m   2062\u001b[0m \u001b[1;33m\u001b[0m\u001b[0m\n",
      "\u001b[1;31mKeyboardInterrupt\u001b[0m: "
     ]
    }
   ],
   "source": [
    "nb_iter = 2500001\n",
    "alpha = 0.0017\n",
    "beta = 0.2\n",
    "P,Q = simple_gradient_descent(index_users,index_movies,alpha,beta,nb_iter)"
   ]
  },
  {
   "cell_type": "code",
   "execution_count": 167,
   "metadata": {
    "collapsed": false
   },
   "outputs": [
    {
     "name": "stdout",
     "output_type": "stream",
     "text": [
      "1.02893275003\n"
     ]
    }
   ],
   "source": [
    "\n",
    "def evaluate_simple(Xtest,P,Q,index_users,index_movies):\n",
    "    pred = np.dot(P,np.transpose(Q))\n",
    "    cost = 0\n",
    "    for tup in Xtest:\n",
    "        i = index_users[tup[0]]\n",
    "        j = index_movies[tup[1]]\n",
    "        cost += (tup[2] - pred[i][j])**2\n",
    "    return cost/len(Xtest)\n",
    "print evaluate_simple(test,P,Q,index_users,index_movies)\n",
    "            "
   ]
  },
  {
   "cell_type": "markdown",
   "metadata": {},
   "source": [
    "Meilleurs résultats que avg, mais pas de beaucoup. Ca semble pertinent d'essayer d'introduire les biais"
   ]
  },
  {
   "cell_type": "code",
   "execution_count": 78,
   "metadata": {
    "collapsed": false
   },
   "outputs": [
    {
     "name": "stdout",
     "output_type": "stream",
     "text": [
      "\n"
     ]
    }
   ],
   "source": [
    "from numpy.linalg import norm\n",
    "\n",
    "def cost_biased(index_users,index_movies,P,Q,Bu,Bm,XList,l):\n",
    "    pred = np.dot(P,np.transpose(Q))\n",
    "    cost = 0\n",
    "    for tup in XList:\n",
    "        i = index_users[tup[0]]\n",
    "        j = index_movies[tup[1]]\n",
    "        cost += (tup[2] -(Bu[i] + Bm[j]+ pred[i][j])**2 +l*(norm(P)**2 + norm(Q)**2+norm(Bu)**2+norm(Bm)**2))\n",
    "    return cost/len(XList)\n",
    "def biased_gradient_descent(train,index_users,index_movies,alpha,beta,nb_iter):\n",
    "    N = 100\n",
    "    U = len(index_users)\n",
    "    M = len(index_movies)\n",
    "    P = np.random.rand(U,N)\n",
    "    Q = np.random.rand(M,N)\n",
    "    Busers = np.random.rand(U)\n",
    "    Bmovies = np.random.rand(M)\n",
    "    \n",
    "    for it in range(nb_iter):\n",
    "        d = np.random.randint(len(train))\n",
    "        tup = train[d]\n",
    "        i = index_users[tup[0]]\n",
    "        j = index_movies[tup[1]]\n",
    "        dotPQ = np.dot(P[i],Q[j])\n",
    "        rauPQ = (dotPQ + Busers[i] + Bmovies[j]-tup[2])\n",
    "        Pprime_i = P[i] - alpha*(2*rauPQ*Q[j]+2*beta*(P[i]))\n",
    "        Qprime_j = Q[j] - alpha*(2*rauPQ*P[i]+2*beta*Q[j])\n",
    "        Busersprime_i = Busers[i] - (alpha*2*rauPQ*Busers[i]+  2 *beta*Busers[i])\n",
    "        Bmoviesprime_j = Bmovies[j] - (alpha*2*rauPQ*Bmovies[j]+  2 *beta*Bmovies[j])\n",
    "        P[i] = Pprime_i\n",
    "        Q[j] = Qprime_j\n",
    "        Busers[i] = Busersprime_i\n",
    "        Bmovies[j] = Bmoviesprime_j\n",
    "        if it % 500000 == 0:\n",
    "            print it,cost_biased(index_users,index_movies,P,Q,Busers,Bmovies,train,beta)\n",
    "            print tup[2]\n",
    "            print dotPQ + Busers[i] + Bmovies[j]\n",
    "    return P,Q,Busers,Bmovies"
   ]
  },
  {
   "cell_type": "code",
   "execution_count": 69,
   "metadata": {
    "collapsed": false
   },
   "outputs": [
    {
     "name": "stdout",
     "output_type": "stream",
     "text": [
      "0 16657.0357356\n",
      "3.0\n",
      "26.2309484837\n",
      "500000 3613.20447993\n",
      "3.0\n",
      "2.41645958748\n",
      "1000000"
     ]
    },
    {
     "ename": "KeyboardInterrupt",
     "evalue": "",
     "output_type": "error",
     "traceback": [
      "\u001b[1;31m---------------------------------------------------------------------------\u001b[0m",
      "\u001b[1;31mKeyboardInterrupt\u001b[0m                         Traceback (most recent call last)",
      "\u001b[1;32m<ipython-input-69-2f8963beb145>\u001b[0m in \u001b[0;36m<module>\u001b[1;34m()\u001b[0m\n\u001b[0;32m      2\u001b[0m \u001b[0mbeta\u001b[0m \u001b[1;33m=\u001b[0m \u001b[1;36m0.2\u001b[0m\u001b[1;33m\u001b[0m\u001b[0m\n\u001b[0;32m      3\u001b[0m \u001b[0mnb_iter\u001b[0m \u001b[1;33m=\u001b[0m \u001b[1;36m25000001\u001b[0m\u001b[1;33m\u001b[0m\u001b[0m\n\u001b[1;32m----> 4\u001b[1;33m \u001b[0mPbiased\u001b[0m\u001b[1;33m,\u001b[0m\u001b[0mQbiased\u001b[0m\u001b[1;33m,\u001b[0m\u001b[0mBusers\u001b[0m\u001b[1;33m,\u001b[0m\u001b[0mBmovies\u001b[0m \u001b[1;33m=\u001b[0m \u001b[0mbiased_gradient_descent\u001b[0m\u001b[1;33m(\u001b[0m\u001b[0mtrain\u001b[0m\u001b[1;33m,\u001b[0m\u001b[0mindex_users\u001b[0m\u001b[1;33m,\u001b[0m\u001b[0mindex_movies\u001b[0m\u001b[1;33m,\u001b[0m\u001b[0malpha\u001b[0m\u001b[1;33m,\u001b[0m\u001b[0mbeta\u001b[0m\u001b[1;33m,\u001b[0m\u001b[0mnb_iter\u001b[0m\u001b[1;33m)\u001b[0m\u001b[1;33m\u001b[0m\u001b[0m\n\u001b[0m",
      "\u001b[1;32m<ipython-input-68-79775b474199>\u001b[0m in \u001b[0;36mbiased_gradient_descent\u001b[1;34m(train, index_users, index_movies, alpha, beta, nb_iter)\u001b[0m\n\u001b[0;32m     34\u001b[0m         \u001b[0mBmovies\u001b[0m\u001b[1;33m[\u001b[0m\u001b[0mj\u001b[0m\u001b[1;33m]\u001b[0m \u001b[1;33m=\u001b[0m \u001b[0mBmoviesprime_j\u001b[0m\u001b[1;33m\u001b[0m\u001b[0m\n\u001b[0;32m     35\u001b[0m         \u001b[1;32mif\u001b[0m \u001b[0mit\u001b[0m \u001b[1;33m%\u001b[0m \u001b[1;36m500000\u001b[0m \u001b[1;33m==\u001b[0m \u001b[1;36m0\u001b[0m\u001b[1;33m:\u001b[0m\u001b[1;33m\u001b[0m\u001b[0m\n\u001b[1;32m---> 36\u001b[1;33m             \u001b[1;32mprint\u001b[0m \u001b[0mit\u001b[0m\u001b[1;33m,\u001b[0m\u001b[0mcost_biased\u001b[0m\u001b[1;33m(\u001b[0m\u001b[0mP\u001b[0m\u001b[1;33m,\u001b[0m\u001b[0mQ\u001b[0m\u001b[1;33m,\u001b[0m\u001b[0mBusers\u001b[0m\u001b[1;33m,\u001b[0m\u001b[0mBmovies\u001b[0m\u001b[1;33m,\u001b[0m\u001b[0mtrain\u001b[0m\u001b[1;33m,\u001b[0m\u001b[0mbeta\u001b[0m\u001b[1;33m)\u001b[0m\u001b[1;33m\u001b[0m\u001b[0m\n\u001b[0m\u001b[0;32m     37\u001b[0m             \u001b[1;32mprint\u001b[0m \u001b[0mtup\u001b[0m\u001b[1;33m[\u001b[0m\u001b[1;36m2\u001b[0m\u001b[1;33m]\u001b[0m\u001b[1;33m\u001b[0m\u001b[0m\n\u001b[0;32m     38\u001b[0m             \u001b[1;32mprint\u001b[0m \u001b[0mdotPQ\u001b[0m \u001b[1;33m+\u001b[0m \u001b[0mBusers\u001b[0m\u001b[1;33m[\u001b[0m\u001b[0mi\u001b[0m\u001b[1;33m]\u001b[0m \u001b[1;33m+\u001b[0m \u001b[0mBmovies\u001b[0m\u001b[1;33m[\u001b[0m\u001b[0mj\u001b[0m\u001b[1;33m]\u001b[0m\u001b[1;33m\u001b[0m\u001b[0m\n",
      "\u001b[1;32m<ipython-input-68-79775b474199>\u001b[0m in \u001b[0;36mcost_biased\u001b[1;34m(P, Q, Bu, Bm, XList, l)\u001b[0m\n\u001b[0;32m      7\u001b[0m         \u001b[0mi\u001b[0m \u001b[1;33m=\u001b[0m \u001b[0mindex_users\u001b[0m\u001b[1;33m[\u001b[0m\u001b[0mtup\u001b[0m\u001b[1;33m[\u001b[0m\u001b[1;36m0\u001b[0m\u001b[1;33m]\u001b[0m\u001b[1;33m]\u001b[0m\u001b[1;33m\u001b[0m\u001b[0m\n\u001b[0;32m      8\u001b[0m         \u001b[0mj\u001b[0m \u001b[1;33m=\u001b[0m \u001b[0mindex_movies\u001b[0m\u001b[1;33m[\u001b[0m\u001b[0mtup\u001b[0m\u001b[1;33m[\u001b[0m\u001b[1;36m1\u001b[0m\u001b[1;33m]\u001b[0m\u001b[1;33m]\u001b[0m\u001b[1;33m\u001b[0m\u001b[0m\n\u001b[1;32m----> 9\u001b[1;33m         \u001b[0mcost\u001b[0m \u001b[1;33m+=\u001b[0m \u001b[1;33m(\u001b[0m\u001b[0mtup\u001b[0m\u001b[1;33m[\u001b[0m\u001b[1;36m2\u001b[0m\u001b[1;33m]\u001b[0m \u001b[1;33m-\u001b[0m\u001b[1;33m(\u001b[0m\u001b[0mBu\u001b[0m\u001b[1;33m[\u001b[0m\u001b[0mi\u001b[0m\u001b[1;33m]\u001b[0m \u001b[1;33m+\u001b[0m \u001b[0mBm\u001b[0m\u001b[1;33m[\u001b[0m\u001b[0mj\u001b[0m\u001b[1;33m]\u001b[0m\u001b[1;33m+\u001b[0m \u001b[0mpred\u001b[0m\u001b[1;33m[\u001b[0m\u001b[0mi\u001b[0m\u001b[1;33m]\u001b[0m\u001b[1;33m[\u001b[0m\u001b[0mj\u001b[0m\u001b[1;33m]\u001b[0m\u001b[1;33m)\u001b[0m\u001b[1;33m**\u001b[0m\u001b[1;36m2\u001b[0m \u001b[1;33m+\u001b[0m\u001b[0ml\u001b[0m\u001b[1;33m*\u001b[0m\u001b[1;33m(\u001b[0m\u001b[0mnorm\u001b[0m\u001b[1;33m(\u001b[0m\u001b[0mP\u001b[0m\u001b[1;33m)\u001b[0m\u001b[1;33m**\u001b[0m\u001b[1;36m2\u001b[0m \u001b[1;33m+\u001b[0m \u001b[0mnorm\u001b[0m\u001b[1;33m(\u001b[0m\u001b[0mQ\u001b[0m\u001b[1;33m)\u001b[0m\u001b[1;33m**\u001b[0m\u001b[1;36m2\u001b[0m\u001b[1;33m+\u001b[0m\u001b[0mnorm\u001b[0m\u001b[1;33m(\u001b[0m\u001b[0mBu\u001b[0m\u001b[1;33m)\u001b[0m\u001b[1;33m**\u001b[0m\u001b[1;36m2\u001b[0m\u001b[1;33m+\u001b[0m\u001b[0mnorm\u001b[0m\u001b[1;33m(\u001b[0m\u001b[0mBm\u001b[0m\u001b[1;33m)\u001b[0m\u001b[1;33m**\u001b[0m\u001b[1;36m2\u001b[0m\u001b[1;33m)\u001b[0m\u001b[1;33m)\u001b[0m\u001b[1;33m\u001b[0m\u001b[0m\n\u001b[0m\u001b[0;32m     10\u001b[0m     \u001b[1;32mreturn\u001b[0m \u001b[0mcost\u001b[0m\u001b[1;33m/\u001b[0m\u001b[0mlen\u001b[0m\u001b[1;33m(\u001b[0m\u001b[0mXList\u001b[0m\u001b[1;33m)\u001b[0m\u001b[1;33m\u001b[0m\u001b[0m\n\u001b[0;32m     11\u001b[0m \u001b[1;32mdef\u001b[0m \u001b[0mbiased_gradient_descent\u001b[0m\u001b[1;33m(\u001b[0m\u001b[0mtrain\u001b[0m\u001b[1;33m,\u001b[0m\u001b[0mindex_users\u001b[0m\u001b[1;33m,\u001b[0m\u001b[0mindex_movies\u001b[0m\u001b[1;33m,\u001b[0m\u001b[0malpha\u001b[0m\u001b[1;33m,\u001b[0m\u001b[0mbeta\u001b[0m\u001b[1;33m,\u001b[0m\u001b[0mnb_iter\u001b[0m\u001b[1;33m)\u001b[0m\u001b[1;33m:\u001b[0m\u001b[1;33m\u001b[0m\u001b[0m\n",
      "\u001b[1;32mC:\\Users\\Walid\\Anaconda\\lib\\site-packages\\numpy\\linalg\\linalg.pyc\u001b[0m in \u001b[0;36mnorm\u001b[1;34m(x, ord, axis)\u001b[0m\n\u001b[0;32m   2058\u001b[0m             \u001b[0msqnorm\u001b[0m \u001b[1;33m=\u001b[0m \u001b[0mdot\u001b[0m\u001b[1;33m(\u001b[0m\u001b[0mx\u001b[0m\u001b[1;33m.\u001b[0m\u001b[0mreal\u001b[0m\u001b[1;33m,\u001b[0m \u001b[0mx\u001b[0m\u001b[1;33m.\u001b[0m\u001b[0mreal\u001b[0m\u001b[1;33m)\u001b[0m \u001b[1;33m+\u001b[0m \u001b[0mdot\u001b[0m\u001b[1;33m(\u001b[0m\u001b[0mx\u001b[0m\u001b[1;33m.\u001b[0m\u001b[0mimag\u001b[0m\u001b[1;33m,\u001b[0m \u001b[0mx\u001b[0m\u001b[1;33m.\u001b[0m\u001b[0mimag\u001b[0m\u001b[1;33m)\u001b[0m\u001b[1;33m\u001b[0m\u001b[0m\n\u001b[0;32m   2059\u001b[0m         \u001b[1;32melse\u001b[0m\u001b[1;33m:\u001b[0m\u001b[1;33m\u001b[0m\u001b[0m\n\u001b[1;32m-> 2060\u001b[1;33m             \u001b[0msqnorm\u001b[0m \u001b[1;33m=\u001b[0m \u001b[0mdot\u001b[0m\u001b[1;33m(\u001b[0m\u001b[0mx\u001b[0m\u001b[1;33m,\u001b[0m \u001b[0mx\u001b[0m\u001b[1;33m)\u001b[0m\u001b[1;33m\u001b[0m\u001b[0m\n\u001b[0m\u001b[0;32m   2061\u001b[0m         \u001b[1;32mreturn\u001b[0m \u001b[0msqrt\u001b[0m\u001b[1;33m(\u001b[0m\u001b[0msqnorm\u001b[0m\u001b[1;33m)\u001b[0m\u001b[1;33m\u001b[0m\u001b[0m\n\u001b[0;32m   2062\u001b[0m \u001b[1;33m\u001b[0m\u001b[0m\n",
      "\u001b[1;31mKeyboardInterrupt\u001b[0m: "
     ]
    }
   ],
   "source": [
    "alpha = 0.025\n",
    "beta = 0.2\n",
    "nb_iter = 25000001\n",
    "Pbiased,Qbiased,Busers,Bmovies = biased_gradient_descent(train,index_users,index_movies,alpha,beta,nb_iter)"
   ]
  },
  {
   "cell_type": "code",
   "execution_count": 49,
   "metadata": {
    "collapsed": false
   },
   "outputs": [
    {
     "name": "stdout",
     "output_type": "stream",
     "text": [
      "1.02736578829\n"
     ]
    }
   ],
   "source": [
    "def evaluate_biased(Xtest,P,Q,Busers,Bmovies,index_users,index_movies):\n",
    "    pred = np.dot(P,np.transpose(Q))\n",
    "    cost = 0\n",
    "    for tup in Xtest:\n",
    "        i = index_users[tup[0]]\n",
    "        j = index_movies[tup[1]]\n",
    "        cost += (tup[2] - (pred[i][j]+Busers[i]+Bmovies[j]))**2\n",
    "    return cost/len(Xtest)\n",
    "print evaluate_biased(test,Pbiased,Qbiased,Busers,Bmovies,index_users,index_movies)"
   ]
  },
  {
   "cell_type": "markdown",
   "metadata": {},
   "source": [
    "Mêmes résultats que sans biais"
   ]
  },
  {
   "cell_type": "markdown",
   "metadata": {},
   "source": [
    "A partir d'ici on recommence avec la base 1M.\n"
   ]
  },
  {
   "cell_type": "markdown",
   "metadata": {},
   "source": []
  },
  {
   "cell_type": "code",
   "execution_count": 70,
   "metadata": {
    "collapsed": false
   },
   "outputs": [
    {
     "name": "stdout",
     "output_type": "stream",
     "text": [
      "\n"
     ]
    }
   ],
   "source": [
    "def loadMovieLens1M(path='data_movielens/ml-1M'):\n",
    "\n",
    "  # Get movie titles\n",
    "  movies={}\n",
    "  for line in open(path+'/movies.dat'):\n",
    "    (id,title)=line.split('::')[0:2]\n",
    "    movies[id]=title\n",
    "\n",
    "  # Load data\n",
    "  prefsUsersMovies,prefsMoviesUsers = {},{}\n",
    " \n",
    "  for line in open(path+'/ratings.dat'):\n",
    "    (user,movieid,rating,ts)=line.split('::')\n",
    "    prefsUsersMovies.setdefault(user,{})\n",
    "    prefsMoviesUsers.setdefault(movies[movieid],{})\n",
    "    prefsUsersMovies[user][movies[movieid]]=float(rating)\n",
    "    prefsMoviesUsers[movies[movieid]][user]=float(rating)\n",
    "    \n",
    "  return prefsUsersMovies,prefsMoviesUsers"
   ]
  },
  {
   "cell_type": "code",
   "execution_count": 71,
   "metadata": {
    "collapsed": false
   },
   "outputs": [
    {
     "name": "stdout",
     "output_type": "stream",
     "text": [
      "[('2320', 'Men in Black (1997)', 3.0), ('4345', 'Speechless (1994)', 2.0), ('475', 'Great Escape, The (1963)', 4.0), ('5597', 'Blob, The (1958)', 1.0), ('1426', 'Falling Down (1993)', 4.0), ('5347', \"Jackie Chan's First Strike (1996)\", 1.0), ('1255', 'Go Fish (1994)', 4.0), ('1268', \"City Slickers II: The Legend of Curly's Gold (1994)\", 1.0), ('1211', 'Third Man, The (1949)', 5.0), ('5822', 'Halloween (1978)', 3.0)]\n",
      "920455\n",
      "79754\n"
     ]
    }
   ],
   "source": [
    "import numpy as np\n",
    "import random\n",
    "prefsUsersMovies1M,prefsMoviesUsers1M = loadMovieLens1M()\n",
    "data1M = []\n",
    "for user,val in prefsUsersMovies1M.iteritems():\n",
    "        for movie,rate in val.iteritems():\n",
    "            data1M.append((user,movie,rate))\n",
    "random.shuffle(data1M)\n",
    "train1M = data1M[:int(len(data)*0.8)]\n",
    "test_before1M = data1M[int(len(data)*0.8):]\n",
    "print train1M[:10]\n",
    "print len(test_before1M)\n",
    "print len(train1M)"
   ]
  },
  {
   "cell_type": "code",
   "execution_count": 72,
   "metadata": {
    "collapsed": false
   },
   "outputs": [
    {
     "name": "stdout",
     "output_type": "stream",
     "text": [
      "Test : 911733\n",
      "Train : 79754\n",
      "Mean squared error : 1.15681716132\n",
      "1.15681716132 1.15681716132\n"
     ]
    }
   ],
   "source": [
    "from sklearn.metrics import mean_squared_error\n",
    "train1M.sort(key=lambda tup: (tup[0],tup[1]))\n",
    "test_before1M.sort(key= lambda tup: (tup[0],tup[1]))\n",
    "index_users1M = {}\n",
    "index_movies1M = {}\n",
    "train_dict1M = {}\n",
    "for t in train1M:\n",
    "    if t[0] in train_dict1M:\n",
    "        train_dict1M[t[0]][t[1]] = t[2]\n",
    "    else :\n",
    "        train_dict1M[t[0]] = {t[1]:t[2]}\n",
    "means_by_user1M = {}\n",
    "for t in train1M:\n",
    "    if not t[0] in index_users1M:\n",
    "        index_users1M[t[0]] = len (index_users1M.keys()) # on donne un ID à chaque user\n",
    "        means_by_user1M[t[0]] = np.mean(np.array(train_dict1M[t[0]].values()))\n",
    "    if not t[1] in index_movies1M:\n",
    "        index_movies1M [t[1]] = len (index_movies1M.keys()) # On donne un ID à chaque film\n",
    "        \n",
    "    \n",
    "test1M = []\n",
    "for d in test_before1M:\n",
    "    if (d[0] in index_users1M and d[1] in index_movies1M):\n",
    "        test1M.append(d)\n",
    "\n",
    "\n",
    "        \n",
    "test_predict_avg1M = {}\n",
    "y_train1M = np.array([d[2] for d in train1M])\n",
    "y_test1M = np.array([d[2] for d in test1M])\n",
    "y_avg_pred1M = np.array([means_by_user1M[d[0]] for d in test1M])\n",
    "\n",
    "print \"Test :\",len(test1M)\n",
    "print \"Train :\",len(train1M)\n",
    "print \"Mean squared error :\",mean_squared_error(y_test1M,y_avg_pred1M)\n",
    "a = sum((y_test1M - y_avg_pred1M)**2)/len(y_test1M)\n",
    "b = np.average((y_test1M - y_avg_pred1M)**2)\n",
    "print a,b"
   ]
  },
  {
   "cell_type": "code",
   "execution_count": 79,
   "metadata": {
    "collapsed": false
   },
   "outputs": [
    {
     "name": "stdout",
     "output_type": "stream",
     "text": [
      "0 60820.6124772\n",
      "5.0\n",
      "27.2033623645\n",
      "500000 17620.1808934\n",
      "4.0\n",
      "2.74459634687\n",
      "1000000 13452.2015311\n",
      "5.0\n",
      "3.43441242366\n",
      "1500000 11427.3387723\n",
      "4.0\n",
      "3.51930640928\n",
      "2000000 10306.0577321\n",
      "4.0\n",
      "2.89215402183\n",
      "2500000 9596.88907196\n",
      "5.0\n",
      "4.7540491735\n"
     ]
    }
   ],
   "source": [
    "alpha = 0.025\n",
    "beta = 0.2\n",
    "nb_iter = 2500001\n",
    "Pbiased1M,Qbiased1M,Busers1M,Bmovies1M = biased_gradient_descent(train1M,index_users1M,index_movies1M,alpha,beta,nb_iter)"
   ]
  },
  {
   "cell_type": "code",
   "execution_count": 80,
   "metadata": {
    "collapsed": false
   },
   "outputs": [
    {
     "name": "stdout",
     "output_type": "stream",
     "text": [
      "1.09349891594\n"
     ]
    }
   ],
   "source": [
    "print evaluate_biased(test1M,Pbiased1M,Qbiased1M,Busers1M,Bmovies1M,index_users1M,index_movies1M)"
   ]
  },
  {
   "cell_type": "markdown",
   "metadata": {},
   "source": [
    "# Visualisation\n"
   ]
  },
  {
   "cell_type": "code",
   "execution_count": null,
   "metadata": {
    "collapsed": true
   },
   "outputs": [],
   "source": []
  }
 ],
 "metadata": {
  "kernelspec": {
   "display_name": "Python 2",
   "language": "python",
   "name": "python2"
  },
  "language_info": {
   "codemirror_mode": {
    "name": "ipython",
    "version": 2
   },
   "file_extension": ".py",
   "mimetype": "text/x-python",
   "name": "python",
   "nbconvert_exporter": "python",
   "pygments_lexer": "ipython2",
   "version": "2.7.10"
  }
 },
 "nbformat": 4,
 "nbformat_minor": 0
}
