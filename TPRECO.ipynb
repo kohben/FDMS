{
 "cells": [
  {
   "cell_type": "markdown",
   "metadata": {},
   "source": [
    "# TP4\n"
   ]
  },
  {
   "cell_type": "code",
   "execution_count": 54,
   "metadata": {
    "collapsed": false
   },
   "outputs": [],
   "source": [
    "def loadMovieLens(path='data/movielens'):\n",
    "\n",
    "  # Get movie titles\n",
    "  movies={}\n",
    "  for line in open(path+'/u.item'):\n",
    "    (id,title)=line.split('|')[0:2]\n",
    "    movies[id]=title\n",
    "\n",
    "  # Load data\n",
    "  prefsUsersMovies,prefsMoviesUsers = {},{}\n",
    " \n",
    "  for line in open(path+'/u.data'):\n",
    "    (user,movieid,rating,ts)=line.split('\\t')\n",
    "    prefsUsersMovies.setdefault(user,{})\n",
    "    prefsMoviesUsers.setdefault(movies[movieid],{})\n",
    "    prefsUsersMovies[user][movies[movieid]]=float(rating)\n",
    "    prefsMoviesUsers[movies[movieid]][user]=float(rating)\n",
    "    \n",
    "  return prefsUsersMovies,prefsMoviesUsers"
   ]
  },
  {
   "cell_type": "code",
   "execution_count": 59,
   "metadata": {
    "collapsed": false
   },
   "outputs": [
    {
     "name": "stdout",
     "output_type": "stream",
     "text": [
      "[('727', 'Night of the Living Dead (1968)', 2.0), ('433', 'Usual Suspects, The (1995)', 5.0), ('223', 'Shadow Conspiracy (1997)', 3.0), ('707', 'Roman Holiday (1953)', 2.0), ('217', 'Crow, The (1994)', 3.0), ('339', 'Natural Born Killers (1994)', 4.0), ('111', 'Sweet Hereafter, The (1997)', 2.0), ('240', 'English Patient, The (1996)', 5.0), ('296', 'Apocalypse Now (1979)', 5.0), ('405', 'Circle of Friends (1995)', 1.0)]\n",
      "19939\n",
      "79754\n"
     ]
    }
   ],
   "source": [
    "import numpy as np\n",
    "import random\n",
    "prefsUsersMovies,prefsMoviesUsers = loadMovieLens()\n",
    "data = []\n",
    "for user,val in prefsUsersMovies.iteritems():\n",
    "        for movie,rate in val.iteritems():\n",
    "            data.append((user,movie,rate))\n",
    "\n",
    "random.shuffle(data)\n",
    "train = data[:int(len(data)*0.8)]\n",
    "test_before = data[int(len(data)*0.8):]\n",
    "print train[:10]\n",
    "print len(test)\n",
    "print len(train)"
   ]
  },
  {
   "cell_type": "code",
   "execution_count": 34,
   "metadata": {
    "collapsed": false
   },
   "outputs": [
    {
     "data": {
      "text/plain": [
       "[53, 156, 944]"
      ]
     },
     "execution_count": 34,
     "metadata": {},
     "output_type": "execute_result"
    }
   ],
   "source": [
    "random.sample(xrange(1000),3)"
   ]
  },
  {
   "cell_type": "code",
   "execution_count": 76,
   "metadata": {
    "collapsed": false
   },
   "outputs": [
    {
     "name": "stdout",
     "output_type": "stream",
     "text": [
      "Test : 19939\n",
      "Train : 79754\n",
      "Mean squared error : 1.0912850839\n"
     ]
    }
   ],
   "source": [
    "from sklearn.metrics import mean_squared_error\n",
    "train.sort(key=lambda tup: (tup[0],tup[1]))\n",
    "test.sort(key= lambda tup: (tup[0],tup[1]))\n",
    "index_users = {}\n",
    "index_movies = {}\n",
    "train_dict = {}\n",
    "for t in train:\n",
    "    if t[0] in train_dict:\n",
    "        train_dict[t[0]][t[1]] = t[2]\n",
    "    else :\n",
    "        train_dict[t[0]] = {t[1]:t[2]}\n",
    "means_by_user = {}\n",
    "for t in train:\n",
    "    if not t[0] in index_users:\n",
    "        index_users[t[0]] = len (index_users.keys()) \n",
    "        means_by_user[t[0]] = np.mean(np.array(train_dict[t[0]].values()))\n",
    "    if not t[1] in index_movies:\n",
    "        index_movies [t[1]] = len (index_movies.keys())\n",
    "        \n",
    "    \n",
    "test = []\n",
    "for d in test_before:\n",
    "    if (d[0] in index_users or d[1] in index_movies):\n",
    "        test.append(d)\n",
    "\n",
    "\n",
    "        \n",
    "test_predict_avg = {}\n",
    "y_train = np.array([d[2] for d in train])\n",
    "y_test = np.array([d[2] for d in test])\n",
    "y_avg_pred = np.array([means_by_user[d[0]] for d in test])\n",
    "\n",
    "print \"Test :\",len(test)\n",
    "print \"Train :\",len(train)\n",
    "print \"Mean squared error :\",mean_squared_error(y,y_avg_pred)"
   ]
  },
  {
   "cell_type": "code",
   "execution_count": 53,
   "metadata": {
    "collapsed": false
   },
   "outputs": [],
   "source": [
    "N = 100\n",
    "P = np.random.rand(len(index_users),N)\n",
    "Q = np.random.rand(len(index_movies),N)\n",
    "\n",
    "def cost()\n"
   ]
  }
 ],
 "metadata": {
  "kernelspec": {
   "display_name": "Python 2",
   "language": "python",
   "name": "python2"
  },
  "language_info": {
   "codemirror_mode": {
    "name": "ipython",
    "version": 2
   },
   "file_extension": ".py",
   "mimetype": "text/x-python",
   "name": "python",
   "nbconvert_exporter": "python",
   "pygments_lexer": "ipython2",
   "version": "2.7.9"
  }
 },
 "nbformat": 4,
 "nbformat_minor": 0
}
