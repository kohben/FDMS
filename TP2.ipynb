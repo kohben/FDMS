{
 "cells": [
  {
   "cell_type": "markdown",
   "metadata": {},
   "source": [
    "# TP Implémentation du modèle linéaire L1 régularisé\n"
   ]
  },
  {
   "cell_type": "markdown",
   "metadata": {},
   "source": [
    "Puisqu'il y a du code fourni pour une application similaire je commence par l'éxécuter pour voir ce qu'il fait et ce qui sera réutilisable."
   ]
  },
  {
   "cell_type": "code",
   "execution_count": 178,
   "metadata": {
    "collapsed": true
   },
   "outputs": [],
   "source": [
    "import numpy as np\n",
    "from sklearn.base import BaseEstimator,ClassifierMixin\n",
    "from sklearn.svm import SVC\n",
    "from sklearn import cross_validation\n",
    "class RandomOuSvmClassifier(BaseEstimator,ClassifierMixin):\n",
    "    \"\"\" si la nature du classifier est random il predit au hasard des 0 et\n",
    "    des 1 sinon il utilise un svm pour predire\"\"\"\n",
    "    def __init__(self,nature=\"random\"):\n",
    "        self.nature=nature\n",
    "        self.svm=SVC()\n",
    "    def fit(self, X, y):\n",
    "        if(self.nature==\"svm\"):\n",
    "            self.svm.fit(X, y)\n",
    "        return self\n",
    "    def predict(self, X):\n",
    "        if(self.nature==\"random\"):\n",
    "            return np.random.randint(0,2,len(X))\n",
    "        else:\n",
    "            return self.svm.predict(X)"
   ]
  },
  {
   "cell_type": "markdown",
   "metadata": {},
   "source": [
    "C'est visiblement l'implémentation d'un classifieur avec la même interface que ceux de sklearn, et donc la même que celle du classifieur demandé\n",
    "je jette un oeil aux docs de http://scikit-learn.org/stable/modules/generated/sklearn.base.BaseEstimator.html et http://scikit-learn.org/stable/modules/generated/sklearn.base.ClassifierMixin.html pour voir s'il est nécessaire d'en hériter.(la doc dit que oui mais je ne comprends pas trop pourquoi...)"
   ]
  },
  {
   "cell_type": "code",
   "execution_count": 179,
   "metadata": {
    "collapsed": true
   },
   "outputs": [],
   "source": [
    "from sklearn import datasets\n",
    "from sklearn import metrics\n",
    "iris = datasets.load_iris()\n",
    "X = iris.data\n",
    "y = iris.target\n",
    "classifieurRandom= RandomOuSvmClassifier(nature=\"random\")\n",
    "classifieurSvm= RandomOuSvmClassifier(nature=\"svm\")\n",
    "scoresRandom = cross_validation.cross_val_score(classifieurRandom, X, y, cv=5\n",
    ",scoring=\"accuracy\")\n",
    "scoresSvm = cross_validation.cross_val_score(classifieurSvm, X, y, cv=5\n",
    ",scoring=\"accuracy\")"
   ]
  },
  {
   "cell_type": "code",
   "execution_count": 182,
   "metadata": {
    "collapsed": false
   },
   "outputs": [
    {
     "data": {
      "text/plain": [
       "array([ 0.33333333,  0.4       ,  0.26666667,  0.26666667,  0.33333333])"
      ]
     },
     "execution_count": 182,
     "metadata": {},
     "output_type": "execute_result"
    }
   ],
   "source": [
    "scoresRandom"
   ]
  },
  {
   "cell_type": "code",
   "execution_count": 183,
   "metadata": {
    "collapsed": false
   },
   "outputs": [
    {
     "data": {
      "text/plain": [
       "array([ 0.96666667,  1.        ,  0.96666667,  0.96666667,  1.        ])"
      ]
     },
     "execution_count": 183,
     "metadata": {},
     "output_type": "execute_result"
    }
   ],
   "source": [
    "scoresSvm"
   ]
  },
  {
   "cell_type": "markdown",
   "metadata": {},
   "source": [
    "Ce deuxième bout de code m'a donc montré comment charger un ensemble de données qui possède 3 classes (au vu du random effectué dans le predict et de ses résultats) Il faudra donc en utiliser un autre car notre classifications se fait sur 2 classes. Il me montre aussi comment utiliser la cross-validation."
   ]
  },
  {
   "cell_type": "code",
   "execution_count": null,
   "metadata": {
    "collapsed": false
   },
   "outputs": [],
   "source": []
  },
  {
   "cell_type": "code",
   "execution_count": 72,
   "metadata": {
    "collapsed": false
   },
   "outputs": [
    {
     "name": "stdout",
     "output_type": "stream",
     "text": [
      "<type 'numpy.float64'>\n",
      "<type 'numpy.int32'>\n",
      "[-1  1 -1  1 -1  1 -1 -1  1  1]\n"
     ]
    },
    {
     "data": {
      "text/plain": [
       "0.75814575428216169"
      ]
     },
     "execution_count": 72,
     "metadata": {},
     "output_type": "execute_result"
    }
   ],
   "source": [
    "import numpy as np\n",
    "from sklearn.base import BaseEstimator,ClassifierMixin\n",
    "from sklearn.svm import SVC\n",
    "from sklearn import cross_validation\n",
    "from sklearn.metrics import mean_squared_error\n",
    "from sklearn.metrics import accuracy_score\n",
    "from numpy.linalg import norm\n",
    "\n",
    "class L1LinearRegularisedClassifier(BaseEstimator,ClassifierMixin):\n",
    "   \n",
    "    def __init__(self,regularization_weightL1 = 0,regularization_weightL2 = 0, step = 0.00003 ,iterations = 5000):       \n",
    "        \n",
    "        self.regularization_weight = regularization_weightL1 #possibilité de faire une régularisation L1\n",
    "        self.regularization_weight = regularization_weightL2 #possibilité de faire une régularisation L2\n",
    "       \n",
    "        self.step = step # pas du gradient\n",
    "        self.theta = np.array(np.random.rand(X.shape[1]+1),dtype='float64') # theta initial au hasard\n",
    "        self.iterations = iterations # nombre d'itérations\n",
    "    \n",
    "    def regularizationL1(self,theta):\n",
    "        return self.regularization_weightL1 * norm(theta,1)\n",
    "    def regularizationL2(self,theta):\n",
    "        return self.regularization_weightL2 * norm(theta,2)\n",
    "    \n",
    "    def fit(self, X, y):\n",
    "        \n",
    "        self.stochastic_gradient_descent_L1(X,y,self.theta,self.iterations,self.step)\n",
    "        #print \" Ready to predict\"\n",
    "        #print self.theta\n",
    "        return self\n",
    "    \n",
    "    def stochastic_gradient_descent_L1(self,X,y,theta,I,step):\n",
    "        #print theta.shape\n",
    "        #print X.shape\n",
    "        X_changed = np.concatenate((np.ones((X.shape[0],1),dtype='float64'),X),axis=1)\n",
    "        for it in range(I):\n",
    "            idx = np.random.randint(y.size)\n",
    "            grad_cost = np.zeros(X_changed.shape[1])\n",
    "            prod = np.dot(X_changed[idx],self.theta)\n",
    "            grad_cost = 2.0 * (prod-y[idx])*X_changed[idx]\n",
    "            theta_prime = self.theta - step*grad_cost \n",
    "            if self.regularization_weight > 0:\n",
    "                theta_prime = theta_prime + self.regularization_weight * np.sign(self.theta)\n",
    "                for i in range(self.theta.size):\n",
    "                    if self.theta[i]*theta_prime[i] > 0 :\n",
    "                        self.theta[i] = 0\n",
    "                    else :\n",
    "                        self.theta[i] = theta_prime[i]\n",
    "            else : \n",
    "                self.theta = theta_prime\n",
    "            if it % 5000 == 0:\n",
    "                y_pred = self.predict(X)\n",
    "                #print it\n",
    "                #print self.cost_function(y,y_pred,mean_squared_error,self.regularizationL1), \"coût\"\n",
    "                #print accuracy_score(y,y_pred), \"accuracy\"\n",
    "    \n",
    "    def cost_function(self,y,y_pred,error_function,regularization_function1,regularization_function2) :\n",
    "        cost = error_function(y,y_pred)-regularization_function1(self.theta) - regularization_function1(self.theta)\n",
    "        return cost\n",
    "    \n",
    "    def predict(self, X):\n",
    "        y_pred = np.zeros(X.shape[0])\n",
    "        X_changed = np.concatenate((np.ones((X.shape[0],1),dtype='float64'),X),axis=1) \n",
    "        for i in range(X_changed.shape[0]):\n",
    "            y_pred[i] = np.dot(X_changed[i],self.theta)\n",
    "            if y_pred[i] > 0:\n",
    "                y_pred[i] = 1\n",
    "            else:\n",
    "                y_pred[i] = -1\n",
    "        \n",
    "        return y_pred\n",
    "\n",
    "from sklearn import datasets\n",
    "from sklearn import metrics\n",
    "from sklearn.datasets import fetch_mldata\n",
    "digits = datasets.load_digits(n_class = 2)\n",
    "X = digits.data\n",
    "y = digits.target\n",
    "y = 2*y - 1\n",
    "print type(X[0][0])\n",
    "print type(y[0])\n",
    "print y[:10]\n",
    "classifieurL1= L1LinearRegularisedClassifier()\n",
    "scoresL1 = cross_validation.cross_val_score(classifieurL1, X, y, cv=5,scoring=\"accuracy\"\n",
    ")\n",
    "scoresL1\n",
    "np.mean(scoresL1)"
   ]
  },
  {
   "cell_type": "code",
   "execution_count": null,
   "metadata": {
    "collapsed": true
   },
   "outputs": [],
   "source": [
    "import matplotlib.pyplot as plt\n",
    "nb_lambdas = 100\n",
    "a = np.zeros(nb_lambdas)\n",
    "reg = np.zeros(nb_lambdas)\n",
    "reg[0] = 0\n",
    "\n",
    "for i in range(1,nb_lambdas):\n",
    "    reg[i] = 2**(i-nb_lambda)\n",
    "    \n",
    "\n",
    "for i in range(0,nb_lambdas):\n",
    "\n",
    "    classifieurL1= L1LinearRegularisedClassifier(regularization_weight = reg[i])\n",
    "    scoresL1 = cross_validation.cross_val_score(classifieurL1, X, y, cv=5,scoring=\"accuracy\")\n",
    "    a[i] = np.mean(scoresL1)"
   ]
  },
  {
   "cell_type": "code",
   "execution_count": 73,
   "metadata": {
    "collapsed": false
   },
   "outputs": [],
   "source": [
    "import matplotlib.pyplot as plt\n",
    "nb_lambdas = 100\n",
    "a = np.zeros(nb_lambdas)\n",
    "reg = np.zeros(nb_lambdas)\n",
    "reg[0] = 0\n",
    "\n",
    "for i in range(1,nb_lambdas):\n",
    "    reg[i] = 10**(-1000*i)\n",
    "    \n",
    "\n",
    "for i in range(0,nb_lambdas):\n",
    "\n",
    "    classifieurL1= L1LinearRegularisedClassifier(regularization_weight = reg[i])\n",
    "    scoresL1 = cross_validation.cross_val_score(classifieurL1, X, y, cv=5,scoring=\"accuracy\")\n",
    "    a[i] = np.mean(scoresL1)\n",
    "\n"
   ]
  },
  {
   "cell_type": "code",
   "execution_count": 77,
   "metadata": {
    "collapsed": false
   },
   "outputs": [],
   "source": [
    "a   \n",
    "plt.plot(a)\n",
    "plt.ylabel('accuracy')\n",
    "plt.xlabel('ln_lambda')\n",
    "plt.show()"
   ]
  },
  {
   "cell_type": "code",
   "execution_count": 74,
   "metadata": {
    "collapsed": false
   },
   "outputs": [
    {
     "data": {
      "text/plain": [
       "array([ 0.,  0.,  0.,  0.,  0.,  0.,  0.,  0.,  0.,  0.,  0.,  0.,  0.,\n",
       "        0.,  0.,  0.,  0.,  0.,  0.,  0.,  0.,  0.,  0.,  0.,  0.,  0.,\n",
       "        0.,  0.,  0.,  0.,  0.,  0.,  0.,  0.,  0.,  0.,  0.,  0.,  0.,\n",
       "        0.,  0.,  0.,  0.,  0.,  0.,  0.,  0.,  0.,  0.,  0.,  0.,  0.,\n",
       "        0.,  0.,  0.,  0.,  0.,  0.,  0.,  0.,  0.,  0.,  0.,  0.,  0.,\n",
       "        0.,  0.,  0.,  0.,  0.,  0.,  0.,  0.,  0.,  0.,  0.,  0.,  0.,\n",
       "        0.,  0.,  0.,  0.,  0.,  0.,  0.,  0.,  0.,  0.,  0.,  0.,  0.,\n",
       "        0.,  0.,  0.,  0.,  0.,  0.,  0.,  0.,  0.])"
      ]
     },
     "execution_count": 74,
     "metadata": {},
     "output_type": "execute_result"
    }
   ],
   "source": [
    "reg\n",
    "\n"
   ]
  },
  {
   "cell_type": "code",
   "execution_count": 75,
   "metadata": {
    "collapsed": false
   },
   "outputs": [
    {
     "data": {
      "text/plain": [
       "array([ 0.76111379,  0.73279257,  0.83543315,  0.70840461,  0.62826334,\n",
       "        0.727975  ,  0.75590392,  0.79445034,  0.6781122 ,  0.7275827 ,\n",
       "        0.7279675 ,  0.79707591,  0.75077122,  0.79506989,  0.76728889,\n",
       "        0.73865683,  0.76609535,  0.69729136,  0.74162594,  0.70601378,\n",
       "        0.73224698,  0.77570047,  0.75208802,  0.78337514,  0.79425794,\n",
       "        0.77778474,  0.71921238,  0.75617242,  0.77801413,  0.73626493,\n",
       "        0.76084421,  0.74949729,  0.70010933,  0.76088334,  0.69420702,\n",
       "        0.78356968,  0.76898514,  0.75806215,  0.77735546,  0.76203454,\n",
       "        0.73078655,  0.67213272,  0.74409501,  0.78024739,  0.74695104,\n",
       "        0.76682798,  0.77743906,  0.79144211,  0.74448839,  0.76930028,\n",
       "        0.76393284,  0.76115291,  0.78071795,  0.75544301,  0.74618143,\n",
       "        0.74718685,  0.68876455,  0.70825026,  0.76416222,  0.75814361,\n",
       "        0.73911559,  0.7302833 ,  0.72723701,  0.74668146,  0.74235535,\n",
       "        0.70790244,  0.71345371,  0.77226403,  0.78025168,  0.72484833,\n",
       "        0.8164464 ,  0.71712061,  0.75891   ,  0.74212811,  0.7695645 ,\n",
       "        0.76165616,  0.72264133,  0.76875576,  0.72704783,  0.77215309,\n",
       "        0.77797393,  0.79476119,  0.76967972,  0.71403842,  0.73282419,\n",
       "        0.75031031,  0.80776309,  0.77747176,  0.78627457,  0.71137265,\n",
       "        0.75860238,  0.73850248,  0.73622366,  0.6944005 ,  0.74082149,\n",
       "        0.73124638,  0.71592814,  0.76169529,  0.74410466,  0.68853731])"
      ]
     },
     "execution_count": 75,
     "metadata": {},
     "output_type": "execute_result"
    }
   ],
   "source": [
    "a"
   ]
  },
  {
   "cell_type": "code",
   "execution_count": 79,
   "metadata": {
    "collapsed": false
   },
   "outputs": [],
   "source": [
    "\n",
    "nb_lambdas = 100\n",
    "a2 = np.zeros(nb_lambdas)\n",
    "reg2 = np.zeros(nb_lambdas)\n",
    "reg2[0] = 0\n",
    "\n",
    "for i in range(1,nb_lambdas):\n",
    "    reg2[i] = 10**(-1000) +  2*10**(-100000*i)\n",
    "    \n",
    "\n",
    "for i in range(0,nb_lambdas):\n",
    "\n",
    "    classifieurL1= L1LinearRegularisedClassifier(regularization_weight = reg2[i])\n",
    "    scoresL1 = cross_validation.cross_val_score(classifieurL1, X, y, cv=5,scoring=\"accuracy\")\n",
    "    a2[i] = np.mean(scoresL1)"
   ]
  },
  {
   "cell_type": "markdown",
   "metadata": {},
   "source": [
    "http://www.aclweb.org/anthology/P09-1054"
   ]
  },
  {
   "cell_type": "code",
   "execution_count": 80,
   "metadata": {
    "collapsed": false
   },
   "outputs": [
    {
     "data": {
      "text/plain": [
       "array([ 0.77797286,  0.74417111,  0.77458304,  0.80004931,  0.76628561,\n",
       "        0.7395079 ,  0.74765097,  0.72657942,  0.74108892,  0.78665831,\n",
       "        0.76624756,  0.82242374,  0.78345231,  0.70285013,  0.76068986,\n",
       "        0.77173023,  0.7771652 ,  0.74231837,  0.78901108,  0.77168575,\n",
       "        0.73348608,  0.79144104,  0.72576586,  0.74772601,  0.72194782,\n",
       "        0.75860238,  0.74783909,  0.73903949,  0.7582165 ,  0.75239565,\n",
       "        0.75277831,  0.78600071,  0.75003644,  0.67834373,  0.71608142,\n",
       "        0.79402963,  0.71986462,  0.783224  ,  0.77770971,  0.77546788,\n",
       "        0.76427959,  0.73873507,  0.70578226,  0.73336549,  0.73005392,\n",
       "        0.74378845,  0.72167931,  0.78773608,  0.74251935,  0.7279675 ,\n",
       "        0.72815776,  0.72773276,  0.7585654 ,  0.74714344,  0.72762718,\n",
       "        0.76095408,  0.74119986,  0.78036798,  0.78078976,  0.74722276,\n",
       "        0.7527826 ,  0.72688812,  0.72731312,  0.74741945,  0.76142142,\n",
       "        0.7244169 ,  0.71145304,  0.78495938,  0.74104444,  0.72788604,\n",
       "        0.71628133,  0.69770993,  0.7297018 ,  0.67120876,  0.68003998,\n",
       "        0.81640834,  0.74729993,  0.6497942 ,  0.77747497,  0.79746072,\n",
       "        0.76983729,  0.73244367,  0.75019294,  0.69197054,  0.74182048,\n",
       "        0.66769353,  0.7109096 ,  0.73869381,  0.80297715,  0.73858394,\n",
       "        0.82223455,  0.73691931,  0.72484297,  0.7553669 ,  0.75258162,\n",
       "        0.79456557,  0.78638766,  0.72214022,  0.72276191,  0.75825348])"
      ]
     },
     "execution_count": 80,
     "metadata": {},
     "output_type": "execute_result"
    }
   ],
   "source": [
    "a2"
   ]
  },
  {
   "cell_type": "code",
   "execution_count": null,
   "metadata": {
    "collapsed": false
   },
   "outputs": [],
   "source": [
    "   \n",
    "plt.plot(a2)\n",
    "plt.ylabel('accuracy')\n",
    "plt.xlabel('ln_lambda')\n",
    "plt.show()"
   ]
  },
  {
   "cell_type": "code",
   "execution_count": 39,
   "metadata": {
    "collapsed": false
   },
   "outputs": [
    {
     "data": {
      "text/plain": [
       "(5L,)"
      ]
     },
     "execution_count": 39,
     "metadata": {},
     "output_type": "execute_result"
    }
   ],
   "source": [
    "Y.shape"
   ]
  },
  {
   "cell_type": "code",
   "execution_count": 40,
   "metadata": {
    "collapsed": false
   },
   "outputs": [
    {
     "data": {
      "text/plain": [
       "5"
      ]
     },
     "execution_count": 40,
     "metadata": {},
     "output_type": "execute_result"
    }
   ],
   "source": [
    "Y.size\n"
   ]
  },
  {
   "cell_type": "code",
   "execution_count": 69,
   "metadata": {
    "collapsed": false
   },
   "outputs": [],
   "source": [
    "A = np.random.rand(6,5)"
   ]
  },
  {
   "cell_type": "code",
   "execution_count": 55,
   "metadata": {
    "collapsed": false
   },
   "outputs": [
    {
     "data": {
      "text/plain": [
       "array([[ 0.61990672,  0.85698778,  0.30227644,  0.33878824,  0.99416707],\n",
       "       [ 0.62365261,  0.58393254,  0.54403266,  0.3566358 ,  0.09184679],\n",
       "       [ 0.85410289,  0.58495266,  0.94803139,  0.03989068,  0.29810894],\n",
       "       [ 0.74813547,  0.85936373,  0.35325312,  0.02635477,  0.24077968],\n",
       "       [ 0.18114573,  0.57853052,  0.06748894,  0.09179829,  0.12952997]])"
      ]
     },
     "execution_count": 55,
     "metadata": {},
     "output_type": "execute_result"
    }
   ],
   "source": [
    "A"
   ]
  },
  {
   "cell_type": "code",
   "execution_count": 61,
   "metadata": {
    "collapsed": false
   },
   "outputs": [
    {
     "data": {
      "text/plain": [
       "2.2001003949167433"
      ]
     },
     "execution_count": 61,
     "metadata": {},
     "output_type": "execute_result"
    }
   ],
   "source": [
    "sum(A[1])"
   ]
  },
  {
   "cell_type": "code",
   "execution_count": 63,
   "metadata": {
    "collapsed": false
   },
   "outputs": [
    {
     "data": {
      "text/plain": [
       "8"
      ]
     },
     "execution_count": 63,
     "metadata": {},
     "output_type": "execute_result"
    }
   ],
   "source": [
    "8%9\n"
   ]
  },
  {
   "cell_type": "code",
   "execution_count": 152,
   "metadata": {
    "collapsed": false
   },
   "outputs": [
    {
     "data": {
      "text/plain": [
       "1.0"
      ]
     },
     "execution_count": 152,
     "metadata": {},
     "output_type": "execute_result"
    }
   ],
   "source": [
    "mean_squared_error(np.ones(5),np.zeros(5))"
   ]
  }
 ],
 "metadata": {
  "kernelspec": {
   "display_name": "Python 2",
   "language": "python",
   "name": "python2"
  },
  "language_info": {
   "codemirror_mode": {
    "name": "ipython",
    "version": 2
   },
   "file_extension": ".py",
   "mimetype": "text/x-python",
   "name": "python",
   "nbconvert_exporter": "python",
   "pygments_lexer": "ipython2",
   "version": "2.7.10"
  }
 },
 "nbformat": 4,
 "nbformat_minor": 0
}
