{
 "cells": [
  {
   "cell_type": "code",
   "execution_count": 3,
   "metadata": {
    "collapsed": false
   },
   "outputs": [],
   "source": [
    "import pandas as pd\n",
    "import numpy as np\n",
    "import sys\n",
    "from sklearn.ensemble import RandomForestRegressor\n",
    "from sklearn.cross_validation import KFold\n",
    "from sklearn.metrics import mean_absolute_error as MAE"
   ]
  },
  {
   "cell_type": "markdown",
   "metadata": {},
   "source": [
    "# Import des données"
   ]
  },
  {
   "cell_type": "code",
   "execution_count": 7,
   "metadata": {
    "collapsed": false
   },
   "outputs": [],
   "source": [
    "\n",
    "infile=\"data/train.csv\"\n",
    "outfile=\"data/sample_solution.csv\"\n",
    "\n",
    "df = pd.read_csv(infile)"
   ]
  },
  {
   "cell_type": "markdown",
   "metadata": {},
   "source": [
    "# Essai PMV"
   ]
  },
  {
   "cell_type": "code",
   "execution_count": 24,
   "metadata": {
    "collapsed": false
   },
   "outputs": [],
   "source": [
    "df = df[:2000]"
   ]
  },
  {
   "cell_type": "code",
   "execution_count": 57,
   "metadata": {
    "collapsed": false
   },
   "outputs": [
    {
     "data": {
      "text/html": [
       "<div style=\"max-height:1000px;max-width:1500px;overflow:auto;\">\n",
       "<table border=\"1\" class=\"dataframe\">\n",
       "  <thead>\n",
       "    <tr style=\"text-align: right;\">\n",
       "      <th></th>\n",
       "      <th>Id</th>\n",
       "      <th>minutes_past</th>\n",
       "      <th>radardist_km</th>\n",
       "      <th>Ref</th>\n",
       "      <th>Ref_5x5_10th</th>\n",
       "      <th>Ref_5x5_50th</th>\n",
       "      <th>Ref_5x5_90th</th>\n",
       "      <th>RefComposite</th>\n",
       "      <th>RefComposite_5x5_10th</th>\n",
       "      <th>RefComposite_5x5_50th</th>\n",
       "      <th>...</th>\n",
       "      <th>RhoHV_5x5_90th</th>\n",
       "      <th>Zdr</th>\n",
       "      <th>Zdr_5x5_10th</th>\n",
       "      <th>Zdr_5x5_50th</th>\n",
       "      <th>Zdr_5x5_90th</th>\n",
       "      <th>Kdp</th>\n",
       "      <th>Kdp_5x5_10th</th>\n",
       "      <th>Kdp_5x5_50th</th>\n",
       "      <th>Kdp_5x5_90th</th>\n",
       "      <th>Expected</th>\n",
       "    </tr>\n",
       "  </thead>\n",
       "  <tbody>\n",
       "    <tr>\n",
       "      <th>0</th>\n",
       "      <td> 1</td>\n",
       "      <td>  3</td>\n",
       "      <td> 10</td>\n",
       "      <td> 22.680628</td>\n",
       "      <td> 19.754321</td>\n",
       "      <td> 22.400835</td>\n",
       "      <td> 25.992438</td>\n",
       "      <td> 24.454369</td>\n",
       "      <td> 21.980642</td>\n",
       "      <td> 24.119094</td>\n",
       "      <td>...</td>\n",
       "      <td> 1.018531</td>\n",
       "      <td> 0.553748</td>\n",
       "      <td>-0.664745</td>\n",
       "      <td> 0.361842</td>\n",
       "      <td> 1.959643</td>\n",
       "      <td> 0.104692</td>\n",
       "      <td>-3.576427</td>\n",
       "      <td>-0.488074</td>\n",
       "      <td> 3.921544</td>\n",
       "      <td> 0.254</td>\n",
       "    </tr>\n",
       "    <tr>\n",
       "      <th>1</th>\n",
       "      <td> 1</td>\n",
       "      <td> 16</td>\n",
       "      <td> 10</td>\n",
       "      <td> 22.680628</td>\n",
       "      <td> 19.754321</td>\n",
       "      <td> 22.400835</td>\n",
       "      <td> 25.992438</td>\n",
       "      <td> 24.454369</td>\n",
       "      <td> 21.980642</td>\n",
       "      <td> 24.119094</td>\n",
       "      <td>...</td>\n",
       "      <td> 1.018531</td>\n",
       "      <td> 0.553748</td>\n",
       "      <td>-0.664745</td>\n",
       "      <td> 0.361842</td>\n",
       "      <td> 1.959643</td>\n",
       "      <td> 0.104692</td>\n",
       "      <td>-3.576427</td>\n",
       "      <td>-0.488074</td>\n",
       "      <td> 3.921544</td>\n",
       "      <td> 0.254</td>\n",
       "    </tr>\n",
       "    <tr>\n",
       "      <th>2</th>\n",
       "      <td> 1</td>\n",
       "      <td> 25</td>\n",
       "      <td> 10</td>\n",
       "      <td> 22.680628</td>\n",
       "      <td> 19.754321</td>\n",
       "      <td> 22.400835</td>\n",
       "      <td> 25.992438</td>\n",
       "      <td> 24.454369</td>\n",
       "      <td> 21.980642</td>\n",
       "      <td> 24.119094</td>\n",
       "      <td>...</td>\n",
       "      <td> 1.018531</td>\n",
       "      <td> 0.553748</td>\n",
       "      <td>-0.664745</td>\n",
       "      <td> 0.361842</td>\n",
       "      <td> 1.959643</td>\n",
       "      <td> 0.104692</td>\n",
       "      <td>-3.576427</td>\n",
       "      <td>-0.488074</td>\n",
       "      <td> 3.921544</td>\n",
       "      <td> 0.254</td>\n",
       "    </tr>\n",
       "    <tr>\n",
       "      <th>3</th>\n",
       "      <td> 1</td>\n",
       "      <td> 35</td>\n",
       "      <td> 10</td>\n",
       "      <td> 22.680628</td>\n",
       "      <td> 19.754321</td>\n",
       "      <td> 22.400835</td>\n",
       "      <td> 25.992438</td>\n",
       "      <td> 24.454369</td>\n",
       "      <td> 21.980642</td>\n",
       "      <td> 24.119094</td>\n",
       "      <td>...</td>\n",
       "      <td> 1.018531</td>\n",
       "      <td> 0.553748</td>\n",
       "      <td>-0.664745</td>\n",
       "      <td> 0.361842</td>\n",
       "      <td> 1.959643</td>\n",
       "      <td> 0.104692</td>\n",
       "      <td>-3.576427</td>\n",
       "      <td>-0.488074</td>\n",
       "      <td> 3.921544</td>\n",
       "      <td> 0.254</td>\n",
       "    </tr>\n",
       "    <tr>\n",
       "      <th>4</th>\n",
       "      <td> 1</td>\n",
       "      <td> 45</td>\n",
       "      <td> 10</td>\n",
       "      <td> 22.680628</td>\n",
       "      <td> 19.754321</td>\n",
       "      <td> 22.400835</td>\n",
       "      <td> 25.992438</td>\n",
       "      <td> 24.454369</td>\n",
       "      <td> 21.980642</td>\n",
       "      <td> 24.119094</td>\n",
       "      <td>...</td>\n",
       "      <td> 1.018531</td>\n",
       "      <td> 0.553748</td>\n",
       "      <td>-0.664745</td>\n",
       "      <td> 0.361842</td>\n",
       "      <td> 1.959643</td>\n",
       "      <td> 0.104692</td>\n",
       "      <td>-3.576427</td>\n",
       "      <td>-0.488074</td>\n",
       "      <td> 3.921544</td>\n",
       "      <td> 0.254</td>\n",
       "    </tr>\n",
       "  </tbody>\n",
       "</table>\n",
       "<p>5 rows × 24 columns</p>\n",
       "</div>"
      ],
      "text/plain": [
       "   Id  minutes_past  radardist_km        Ref  Ref_5x5_10th  Ref_5x5_50th  \\\n",
       "0   1             3            10  22.680628     19.754321     22.400835   \n",
       "1   1            16            10  22.680628     19.754321     22.400835   \n",
       "2   1            25            10  22.680628     19.754321     22.400835   \n",
       "3   1            35            10  22.680628     19.754321     22.400835   \n",
       "4   1            45            10  22.680628     19.754321     22.400835   \n",
       "\n",
       "   Ref_5x5_90th  RefComposite  RefComposite_5x5_10th  RefComposite_5x5_50th  \\\n",
       "0     25.992438     24.454369              21.980642              24.119094   \n",
       "1     25.992438     24.454369              21.980642              24.119094   \n",
       "2     25.992438     24.454369              21.980642              24.119094   \n",
       "3     25.992438     24.454369              21.980642              24.119094   \n",
       "4     25.992438     24.454369              21.980642              24.119094   \n",
       "\n",
       "           ...            RhoHV_5x5_90th       Zdr  Zdr_5x5_10th  \\\n",
       "0          ...                  1.018531  0.553748     -0.664745   \n",
       "1          ...                  1.018531  0.553748     -0.664745   \n",
       "2          ...                  1.018531  0.553748     -0.664745   \n",
       "3          ...                  1.018531  0.553748     -0.664745   \n",
       "4          ...                  1.018531  0.553748     -0.664745   \n",
       "\n",
       "   Zdr_5x5_50th  Zdr_5x5_90th       Kdp  Kdp_5x5_10th  Kdp_5x5_50th  \\\n",
       "0      0.361842      1.959643  0.104692     -3.576427     -0.488074   \n",
       "1      0.361842      1.959643  0.104692     -3.576427     -0.488074   \n",
       "2      0.361842      1.959643  0.104692     -3.576427     -0.488074   \n",
       "3      0.361842      1.959643  0.104692     -3.576427     -0.488074   \n",
       "4      0.361842      1.959643  0.104692     -3.576427     -0.488074   \n",
       "\n",
       "   Kdp_5x5_90th  Expected  \n",
       "0      3.921544     0.254  \n",
       "1      3.921544     0.254  \n",
       "2      3.921544     0.254  \n",
       "3      3.921544     0.254  \n",
       "4      3.921544     0.254  \n",
       "\n",
       "[5 rows x 24 columns]"
      ]
     },
     "execution_count": 57,
     "metadata": {},
     "output_type": "execute_result"
    }
   ],
   "source": [
    "df.head()"
   ]
  },
  {
   "cell_type": "code",
   "execution_count": 56,
   "metadata": {
    "collapsed": false
   },
   "outputs": [],
   "source": [
    "df = df.apply(lambda x: x.fillna(x.mean()),axis=0) # on remplace les valeurs manquantes par la moyenne de la colonne"
   ]
  },
  {
   "cell_type": "code",
   "execution_count": 34,
   "metadata": {
    "collapsed": false
   },
   "outputs": [],
   "source": [
    "X = df.as_matrix()[:,:-1]\n",
    "Y = df.as_matrix()[:,-1]\n",
    "\n",
    "cv = np.random.random(X.shape[0])>0.3\n",
    "X_train, X_test = X[cv], X[~cv]\n",
    "Y_train, Y_test = Y[cv], Y[~cv]"
   ]
  },
  {
   "cell_type": "code",
   "execution_count": 52,
   "metadata": {
    "collapsed": false
   },
   "outputs": [],
   "source": [
    "model = RandomForestRegressor(n_estimators=100)"
   ]
  },
  {
   "cell_type": "code",
   "execution_count": 53,
   "metadata": {
    "collapsed": true
   },
   "outputs": [],
   "source": [
    "model.fit(X_train,Y_train)\n",
    "Y_pred = model.predict(X_test)"
   ]
  },
  {
   "cell_type": "code",
   "execution_count": 54,
   "metadata": {
    "collapsed": false
   },
   "outputs": [
    {
     "data": {
      "text/plain": [
       "20.032575387822181"
      ]
     },
     "execution_count": 54,
     "metadata": {},
     "output_type": "execute_result"
    }
   ],
   "source": [
    "MAE(Y_test,Y_pred)"
   ]
  },
  {
   "cell_type": "code",
   "execution_count": 47,
   "metadata": {
    "collapsed": false
   },
   "outputs": [
    {
     "data": {
      "text/plain": [
       "0.010000004999999999"
      ]
     },
     "execution_count": 47,
     "metadata": {},
     "output_type": "execute_result"
    }
   ],
   "source": [
    "np.mean(Y_test)"
   ]
  },
  {
   "cell_type": "markdown",
   "metadata": {},
   "source": [
    "Les résultats sont supérieurs à ceux du leaderboard mais il y a visiblement un problème de méthodologie puisque des id d'expériences de train se retrouvent en test et dès lors il suffit de prédire la valeur cible associée aux id de train pour avoir un bon résultat mais cette situation ne correspond ni à la situation réelle ni à celle du challenge Kaggle."
   ]
  },
  {
   "cell_type": "markdown",
   "metadata": {},
   "source": [
    "# Exploration rigoureuse des données"
   ]
  },
  {
   "cell_type": "code",
   "execution_count": 58,
   "metadata": {
    "collapsed": false
   },
   "outputs": [
    {
     "name": "stdout",
     "output_type": "stream",
     "text": [
      "\u001b[0m\u001b[01;34mdata\u001b[0m/  sample_dask.py  sample_solution.csv.zip  TP2.ipynb\r\n"
     ]
    }
   ],
   "source": []
  },
  {
   "cell_type": "code",
   "execution_count": null,
   "metadata": {
    "collapsed": true
   },
   "outputs": [],
   "source": []
  }
 ],
 "metadata": {
  "kernelspec": {
   "display_name": "Python 2",
   "language": "python",
   "name": "python2"
  },
  "language_info": {
   "codemirror_mode": {
    "name": "ipython",
    "version": 2
   },
   "file_extension": ".py",
   "mimetype": "text/x-python",
   "name": "python",
   "nbconvert_exporter": "python",
   "pygments_lexer": "ipython2",
   "version": "2.7.10"
  }
 },
 "nbformat": 4,
 "nbformat_minor": 0
}
